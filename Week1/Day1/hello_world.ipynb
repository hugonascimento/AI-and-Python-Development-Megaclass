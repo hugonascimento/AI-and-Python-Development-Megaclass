{
 "cells": [
  {
   "cell_type": "code",
   "execution_count": null,
   "id": "aae9d764-3b79-462a-b919-05f4fadf866f",
   "metadata": {},
   "outputs": [
    {
     "name": "stdout",
     "output_type": "stream",
     "text": [
      "Hello Word\n"
     ]
    }
   ],
   "source": [
    "print(\"Hello World\")"
   ]
  },
  {
   "cell_type": "markdown",
   "id": "65fb693c",
   "metadata": {},
   "source": [
    "# Welcome to Python Programming\n",
    "This notebook demonstrates a simple Python program that prints 'Hello World'."
   ]
  },
  {
   "cell_type": "code",
   "execution_count": null,
   "id": "85a29529-2215-485f-8889-488453938bb5",
   "metadata": {},
   "outputs": [],
   "source": []
  }
 ],
 "metadata": {
  "kernelspec": {
   "display_name": "Python 3 (ipykernel)",
   "language": "python",
   "name": "python3"
  },
  "language_info": {
   "codemirror_mode": {
    "name": "ipython",
    "version": 3
   },
   "file_extension": ".py",
   "mimetype": "text/x-python",
   "name": "python",
   "nbconvert_exporter": "python",
   "pygments_lexer": "ipython3",
   "version": "3.13.2"
  }
 },
 "nbformat": 4,
 "nbformat_minor": 5
}
